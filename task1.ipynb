{
 "cells": [
  {
   "cell_type": "markdown",
   "id": "78868614",
   "metadata": {},
   "source": [
    "# GRIP- THE SPARKS FOUNDATION\n",
    "<b> Data Science & Business Analytics Intern\n",
    "<b>Task 1: Prediction using Supervised ML\n",
    "\n",
    "    Name : Apurva Ravindra Talashilkar\n",
    "    "
   ]
  },
  {
   "cell_type": "markdown",
   "id": "4fc4acc6",
   "metadata": {},
   "source": [
    "Task 1: Prediction Using Supervised ML\n",
    "\n",
    "\n",
    "    \n",
    "    "
   ]
  },
  {
   "cell_type": "markdown",
   "id": "48cd0f7c",
   "metadata": {},
   "source": [
    "Predict the Percentage of an student based on the number of hours.\n",
    "\n",
    "This is simple regression involves 2 variables namely Hours & Score3"
   ]
  },
  {
   "cell_type": "code",
   "execution_count": 9,
   "id": "e170a741",
   "metadata": {},
   "outputs": [],
   "source": [
    "#1.Importing the required libraries\n",
    "import pandas as pd\n",
    "import numpy as np\n",
    "import matplotlib.pyplot as plt\n",
    "from sklearn import metrics\n",
    "from sklearn.model_selection import train_test_split\n",
    "from sklearn.linear_model import LinearRegression\n"
   ]
  },
  {
   "cell_type": "code",
   "execution_count": 5,
   "id": "c1bedbaa",
   "metadata": {},
   "outputs": [
    {
     "name": "stdout",
     "output_type": "stream",
     "text": [
      "Data imported\n"
     ]
    }
   ],
   "source": [
    "url = \"http://bit.ly/w-data\"\n",
    "student_data = pd.read_csv(url)\n",
    "print(\"Data imported\")"
   ]
  },
  {
   "cell_type": "code",
   "execution_count": 6,
   "id": "dba2f055",
   "metadata": {},
   "outputs": [
    {
     "data": {
      "text/html": [
       "<div>\n",
       "<style scoped>\n",
       "    .dataframe tbody tr th:only-of-type {\n",
       "        vertical-align: middle;\n",
       "    }\n",
       "\n",
       "    .dataframe tbody tr th {\n",
       "        vertical-align: top;\n",
       "    }\n",
       "\n",
       "    .dataframe thead th {\n",
       "        text-align: right;\n",
       "    }\n",
       "</style>\n",
       "<table border=\"1\" class=\"dataframe\">\n",
       "  <thead>\n",
       "    <tr style=\"text-align: right;\">\n",
       "      <th></th>\n",
       "      <th>Hours</th>\n",
       "      <th>Scores</th>\n",
       "    </tr>\n",
       "  </thead>\n",
       "  <tbody>\n",
       "    <tr>\n",
       "      <th>0</th>\n",
       "      <td>2.5</td>\n",
       "      <td>21</td>\n",
       "    </tr>\n",
       "    <tr>\n",
       "      <th>1</th>\n",
       "      <td>5.1</td>\n",
       "      <td>47</td>\n",
       "    </tr>\n",
       "    <tr>\n",
       "      <th>2</th>\n",
       "      <td>3.2</td>\n",
       "      <td>27</td>\n",
       "    </tr>\n",
       "    <tr>\n",
       "      <th>3</th>\n",
       "      <td>8.5</td>\n",
       "      <td>75</td>\n",
       "    </tr>\n",
       "    <tr>\n",
       "      <th>4</th>\n",
       "      <td>3.5</td>\n",
       "      <td>30</td>\n",
       "    </tr>\n",
       "  </tbody>\n",
       "</table>\n",
       "</div>"
      ],
      "text/plain": [
       "   Hours  Scores\n",
       "0    2.5      21\n",
       "1    5.1      47\n",
       "2    3.2      27\n",
       "3    8.5      75\n",
       "4    3.5      30"
      ]
     },
     "execution_count": 6,
     "metadata": {},
     "output_type": "execute_result"
    }
   ],
   "source": [
    "#to see variables \n",
    "student_data.head()"
   ]
  },
  {
   "cell_type": "code",
   "execution_count": 15,
   "id": "71231855",
   "metadata": {},
   "outputs": [
    {
     "data": {
      "image/png": "[encoded data removed]",
      "text/plain": [
       "<Figure size 432x288 with 1 Axes>"
      ]
     },
     "metadata": {
      "needs_background": "light"
     },
     "output_type": "display_data"
    }
   ],
   "source": [
    "#Data visualization\n",
    "#to plot the distribution of hours and scores.\n",
    "plt.scatter(x=\"Hours\",y=\"Scores\",data=student_data)\n",
    "plt.title(\"Hours v/s Percentage\")    #title o plot\n",
    "plt.xlabel(\"Hours Studied\")\n",
    "plt.ylabel(\"Percentage Score\")\n",
    "plt.show()"
   ]
  },
  {
   "cell_type": "code",
   "execution_count": 16,
   "id": "3a43debf",
   "metadata": {},
   "outputs": [
    {
     "data": {
      "image/png": "[encoded data removed]",
      "text/plain": [
       "<Figure size 720x360 with 2 Axes>"
      ]
     },
     "metadata": {
      "needs_background": "light"
     },
     "output_type": "display_data"
    }
   ],
   "source": [
    "#to check univariate distribution\n",
    "#plot histogram of hours and scores\n",
    "student_data.hist(grid=False,figsize=(10,5))\n",
    "plt.show()\n"
   ]
  },
  {
   "cell_type": "code",
   "execution_count": 24,
   "id": "fa2fc0d0",
   "metadata": {},
   "outputs": [],
   "source": [
    "#preparation o the data for training and testing\n",
    "X=student_data.drop(columns=[\"Scores\"])\n",
    "y=student_data[\"Scores\"]\n"
   ]
  },
  {
   "cell_type": "code",
   "execution_count": 28,
   "id": "c404941e",
   "metadata": {},
   "outputs": [
    {
     "name": "stdout",
     "output_type": "stream",
     "text": [
      "-->training data points 20 and testing data points 5\n"
     ]
    }
   ],
   "source": [
    "X_train, X_test, y_train, y_test = train_test_split(X, y, test_size=0.2,random_state=0)\n",
    "print(f\"-->training data points {X_train.shape[0]} and testing data points {X_test.shape[0]}\")\n"
   ]
  },
  {
   "cell_type": "code",
   "execution_count": 29,
   "id": "16ad54e6",
   "metadata": {},
   "outputs": [
    {
     "name": "stdout",
     "output_type": "stream",
     "text": [
      "Training is Completed\n"
     ]
    }
   ],
   "source": [
    "#Training Algorithm\n",
    "regressor=LinearRegression()\n",
    "regressor.fit(X_train,y_train)\n",
    "print(\"Training is Completed\")"
   ]
  },
  {
   "cell_type": "code",
   "execution_count": 30,
   "id": "1412f0ae",
   "metadata": {},
   "outputs": [
    {
     "name": "stdout",
     "output_type": "stream",
     "text": [
      "--> Equation of line y = 9.91*X+2.02\n"
     ]
    }
   ],
   "source": [
    "#to plot Regression Line\n",
    "print(f\"--> Equation of line y = {np.round(regressor.coef_[0],2)}*X+{np.round(regressor.intercept_,2)}\")\n"
   ]
  },
  {
   "cell_type": "code",
   "execution_count": 31,
   "id": "d036c744",
   "metadata": {},
   "outputs": [
    {
     "data": {
      "image/png": "[encoded data removed]",
      "text/plain": [
       "<Figure size 432x288 with 1 Axes>"
      ]
     },
     "metadata": {
      "needs_background": "light"
     },
     "output_type": "display_data"
    }
   ],
   "source": [
    "plt.scatter(X_train,y_train)\n",
    "plt.xlabel(\"Hours\")\n",
    "plt.ylabel(\"Scores\")\n",
    "plt.plot(X_train,regressor.predict(X_train),\"m\")\n",
    "plt.show()"
   ]
  },
  {
   "cell_type": "code",
   "execution_count": 32,
   "id": "5f4c5374",
   "metadata": {},
   "outputs": [
    {
     "name": "stdout",
     "output_type": "stream",
     "text": [
      "    Hours\n",
      "5     1.5\n",
      "2     3.2\n",
      "19    7.4\n",
      "16    2.5\n",
      "11    5.9\n"
     ]
    }
   ],
   "source": [
    "#test data\n",
    "print(X_test)"
   ]
  },
  {
   "cell_type": "code",
   "execution_count": 41,
   "id": "3d716019",
   "metadata": {},
   "outputs": [
    {
     "data": {
      "text/plain": [
       "array([16.88414476, 33.73226078, 75.357018  , 26.79480124, 60.49103328])"
      ]
     },
     "execution_count": 41,
     "metadata": {},
     "output_type": "execute_result"
    }
   ],
   "source": [
    "y_pred=regressor.predict(X_test)\n",
    "y_pred\n"
   ]
  },
  {
   "cell_type": "code",
   "execution_count": 40,
   "id": "b0abe5b6",
   "metadata": {},
   "outputs": [
    {
     "name": "stdout",
     "output_type": "stream",
     "text": [
      "Comparing actual and predicted data\n"
     ]
    },
    {
     "data": {
      "text/html": [
       "<div>\n",
       "<style scoped>\n",
       "    .dataframe tbody tr th:only-of-type {\n",
       "        vertical-align: middle;\n",
       "    }\n",
       "\n",
       "    .dataframe tbody tr th {\n",
       "        vertical-align: top;\n",
       "    }\n",
       "\n",
       "    .dataframe thead th {\n",
       "        text-align: right;\n",
       "    }\n",
       "</style>\n",
       "<table border=\"1\" class=\"dataframe\">\n",
       "  <thead>\n",
       "    <tr style=\"text-align: right;\">\n",
       "      <th></th>\n",
       "      <th>Actual</th>\n",
       "      <th>Predicted</th>\n",
       "    </tr>\n",
       "  </thead>\n",
       "  <tbody>\n",
       "    <tr>\n",
       "      <th>5</th>\n",
       "      <td>20</td>\n",
       "      <td>16.884145</td>\n",
       "    </tr>\n",
       "    <tr>\n",
       "      <th>2</th>\n",
       "      <td>27</td>\n",
       "      <td>33.732261</td>\n",
       "    </tr>\n",
       "    <tr>\n",
       "      <th>19</th>\n",
       "      <td>69</td>\n",
       "      <td>75.357018</td>\n",
       "    </tr>\n",
       "    <tr>\n",
       "      <th>16</th>\n",
       "      <td>30</td>\n",
       "      <td>26.794801</td>\n",
       "    </tr>\n",
       "    <tr>\n",
       "      <th>11</th>\n",
       "      <td>62</td>\n",
       "      <td>60.491033</td>\n",
       "    </tr>\n",
       "  </tbody>\n",
       "</table>\n",
       "</div>"
      ],
      "text/plain": [
       "    Actual  Predicted\n",
       "5       20  16.884145\n",
       "2       27  33.732261\n",
       "19      69  75.357018\n",
       "16      30  26.794801\n",
       "11      62  60.491033"
      ]
     },
     "execution_count": 40,
     "metadata": {},
     "output_type": "execute_result"
    }
   ],
   "source": [
    "#to compare actual and predicted data\n",
    "print(\"Comparing actual and predicted data\")\n",
    "df = pd.DataFrame({\"Actual\":y_test,\"Predicted\":y_pred})\n",
    "df"
   ]
  },
  {
   "cell_type": "code",
   "execution_count": 43,
   "id": "df1fc952",
   "metadata": {},
   "outputs": [
    {
     "data": {
      "image/png": "[encoded data removed]",
      "text/plain": [
       "<Figure size 432x288 with 1 Axes>"
      ]
     },
     "metadata": {
      "needs_background": "light"
     },
     "output_type": "display_data"
    }
   ],
   "source": [
    "#plotting the test result\n",
    "plt.scatter(X_test,y_test)\n",
    "plt.xlabel(\"Hours\")\n",
    "plt.ylabel(\"Scores\")\n",
    "plt.plot(X_test,regressor.predict(X_test),\"g\")\n",
    "plt.show()"
   ]
  },
  {
   "cell_type": "code",
   "execution_count": 50,
   "id": "943d5910",
   "metadata": {},
   "outputs": [
    {
     "name": "stdout",
     "output_type": "stream",
     "text": [
      "Number of Hours = 9.25\n",
      "Predicted Score = 93.69173248737538\n"
     ]
    }
   ],
   "source": [
    "#testing and finding prediction for 9.25 hours study per day\n",
    "hours=9.25\n",
    "own_pred = regressor.predict([[hours]])\n",
    "print(f\"Number of Hours = {hours}\")\n",
    "print(f\"Predicted Score = {own_pred[0]}\")"
   ]
  },
  {
   "cell_type": "code",
   "execution_count": 49,
   "id": "b3af4266",
   "metadata": {},
   "outputs": [
    {
     "name": "stdout",
     "output_type": "stream",
     "text": [
      "Mean Absolute Error: 4.183859899002975\n",
      "Mean Absolute Error: 21.5987693072174\n",
      "r2 score: 0.9454906892105356\n"
     ]
    }
   ],
   "source": [
    "#to Evaluate the model\n",
    "print(\"Mean Absolute Error:\" , metrics.mean_absolute_error(y_test,y_pred))\n",
    "print(\"Mean Absolute Error:\" , metrics.mean_squared_error(y_test,y_pred))\n",
    "print(\"r2 score:\",metrics.r2_score(y_test,y_pred))"
   ]
  },
  {
   "cell_type": "code",
   "execution_count": null,
   "id": "614b76d4",
   "metadata": {},
   "outputs": [],
   "source": []
  }
 ],
 "metadata": {
  "kernelspec": {
   "display_name": "Python 3",
   "language": "python",
   "name": "python3"
  },
  "language_info": {
   "codemirror_mode": {
    "name": "ipython",
    "version": 3
   },
   "file_extension": ".py",
   "mimetype": "text/x-python",
   "name": "python",
   "nbconvert_exporter": "python",
   "pygments_lexer": "ipython3",
   "version": "3.8.8"
  }
 },
 "nbformat": 4,
 "nbformat_minor": 5
}
